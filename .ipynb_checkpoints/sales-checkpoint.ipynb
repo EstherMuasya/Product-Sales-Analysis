{
 "cells": [
  {
   "cell_type": "code",
   "execution_count": 17,
   "id": "2e45cdc6",
   "metadata": {},
   "outputs": [],
   "source": [
    "#Imports\n",
    "import pandas as pd\n",
    "import numpy as np\n",
    "import seaborn as sns\n",
    "import matplotlib.pyplot as plt\n",
    "import warnings\n",
    "warnings.filterwarnings('ignore')\n",
    "sns.set_theme(style=\"darkgrid\", palette=\"husl\")\n"
   ]
  },
  {
   "cell_type": "code",
   "execution_count": 18,
   "id": "17ea703a",
   "metadata": {},
   "outputs": [],
   "source": [
    "#Loading Data\n",
    "df= pd.read_csv('sales.csv')"
   ]
  },
  {
   "cell_type": "markdown",
   "id": "4ec2ca78",
   "metadata": {},
   "source": [
    "## Understanding Data"
   ]
  },
  {
   "cell_type": "code",
   "execution_count": 19,
   "id": "9ce0d32a",
   "metadata": {},
   "outputs": [
    {
     "data": {
      "text/html": [
       "<div>\n",
       "<style scoped>\n",
       "    .dataframe tbody tr th:only-of-type {\n",
       "        vertical-align: middle;\n",
       "    }\n",
       "\n",
       "    .dataframe tbody tr th {\n",
       "        vertical-align: top;\n",
       "    }\n",
       "\n",
       "    .dataframe thead th {\n",
       "        text-align: right;\n",
       "    }\n",
       "</style>\n",
       "<table border=\"1\" class=\"dataframe\">\n",
       "  <thead>\n",
       "    <tr style=\"text-align: right;\">\n",
       "      <th></th>\n",
       "      <th>week</th>\n",
       "      <th>sales_method</th>\n",
       "      <th>customer_id</th>\n",
       "      <th>nb_sold</th>\n",
       "      <th>revenue</th>\n",
       "      <th>years_as_customer</th>\n",
       "      <th>nb_site_visits</th>\n",
       "      <th>state</th>\n",
       "    </tr>\n",
       "  </thead>\n",
       "  <tbody>\n",
       "    <tr>\n",
       "      <th>0</th>\n",
       "      <td>1</td>\n",
       "      <td>Call</td>\n",
       "      <td>17ca2073-db8a-4b9f-83e6-278e5d21c37b</td>\n",
       "      <td>9</td>\n",
       "      <td>42.70</td>\n",
       "      <td>24</td>\n",
       "      <td>28</td>\n",
       "      <td>Pennsylvania</td>\n",
       "    </tr>\n",
       "    <tr>\n",
       "      <th>1</th>\n",
       "      <td>1</td>\n",
       "      <td>Call</td>\n",
       "      <td>c296c787-c70e-40b1-9bf2-151248b71986</td>\n",
       "      <td>8</td>\n",
       "      <td>40.05</td>\n",
       "      <td>4</td>\n",
       "      <td>17</td>\n",
       "      <td>Alabama</td>\n",
       "    </tr>\n",
       "    <tr>\n",
       "      <th>2</th>\n",
       "      <td>1</td>\n",
       "      <td>Email + Call</td>\n",
       "      <td>375a57db-00c9-4fea-aba0-557fbf99af24</td>\n",
       "      <td>9</td>\n",
       "      <td>NaN</td>\n",
       "      <td>5</td>\n",
       "      <td>21</td>\n",
       "      <td>Texas</td>\n",
       "    </tr>\n",
       "    <tr>\n",
       "      <th>3</th>\n",
       "      <td>1</td>\n",
       "      <td>Email</td>\n",
       "      <td>5b372650-a860-46c9-bab4-4835da5b08f5</td>\n",
       "      <td>9</td>\n",
       "      <td>86.80</td>\n",
       "      <td>9</td>\n",
       "      <td>20</td>\n",
       "      <td>Pennsylvania</td>\n",
       "    </tr>\n",
       "    <tr>\n",
       "      <th>4</th>\n",
       "      <td>1</td>\n",
       "      <td>Email + Call</td>\n",
       "      <td>53d4d2ef-d9c1-45d7-9f13-dc49e1ae8b07</td>\n",
       "      <td>13</td>\n",
       "      <td>190.37</td>\n",
       "      <td>0</td>\n",
       "      <td>32</td>\n",
       "      <td>Alabama</td>\n",
       "    </tr>\n",
       "    <tr>\n",
       "      <th>5</th>\n",
       "      <td>1</td>\n",
       "      <td>Email</td>\n",
       "      <td>fdd40530-41ad-4c8a-8688-e5bfc57bb846</td>\n",
       "      <td>11</td>\n",
       "      <td>107.67</td>\n",
       "      <td>6</td>\n",
       "      <td>26</td>\n",
       "      <td>New Jersey</td>\n",
       "    </tr>\n",
       "    <tr>\n",
       "      <th>6</th>\n",
       "      <td>1</td>\n",
       "      <td>Email</td>\n",
       "      <td>1862ccaf-fe2d-444c-8a03-bb47bcbf4056</td>\n",
       "      <td>10</td>\n",
       "      <td>99.28</td>\n",
       "      <td>1</td>\n",
       "      <td>19</td>\n",
       "      <td>Wyoming</td>\n",
       "    </tr>\n",
       "    <tr>\n",
       "      <th>7</th>\n",
       "      <td>1</td>\n",
       "      <td>Email</td>\n",
       "      <td>3487f16d-00f3-4058-bfdd-6fd6fcb31648</td>\n",
       "      <td>11</td>\n",
       "      <td>108.92</td>\n",
       "      <td>1</td>\n",
       "      <td>28</td>\n",
       "      <td>Iowa</td>\n",
       "    </tr>\n",
       "    <tr>\n",
       "      <th>8</th>\n",
       "      <td>1</td>\n",
       "      <td>Email + Call</td>\n",
       "      <td>43e409a8-419d-4c58-bce0-821107372060</td>\n",
       "      <td>9</td>\n",
       "      <td>132.68</td>\n",
       "      <td>15</td>\n",
       "      <td>26</td>\n",
       "      <td>Kentucky</td>\n",
       "    </tr>\n",
       "    <tr>\n",
       "      <th>9</th>\n",
       "      <td>1</td>\n",
       "      <td>Email</td>\n",
       "      <td>1bdf7e51-1308-4447-827d-811569748c2a</td>\n",
       "      <td>11</td>\n",
       "      <td>105.44</td>\n",
       "      <td>6</td>\n",
       "      <td>27</td>\n",
       "      <td>Connecticut</td>\n",
       "    </tr>\n",
       "  </tbody>\n",
       "</table>\n",
       "</div>"
      ],
      "text/plain": [
       "   week  sales_method                           customer_id  nb_sold  revenue  \\\n",
       "0     1          Call  17ca2073-db8a-4b9f-83e6-278e5d21c37b        9    42.70   \n",
       "1     1          Call  c296c787-c70e-40b1-9bf2-151248b71986        8    40.05   \n",
       "2     1  Email + Call  375a57db-00c9-4fea-aba0-557fbf99af24        9      NaN   \n",
       "3     1         Email  5b372650-a860-46c9-bab4-4835da5b08f5        9    86.80   \n",
       "4     1  Email + Call  53d4d2ef-d9c1-45d7-9f13-dc49e1ae8b07       13   190.37   \n",
       "5     1         Email  fdd40530-41ad-4c8a-8688-e5bfc57bb846       11   107.67   \n",
       "6     1         Email  1862ccaf-fe2d-444c-8a03-bb47bcbf4056       10    99.28   \n",
       "7     1         Email  3487f16d-00f3-4058-bfdd-6fd6fcb31648       11   108.92   \n",
       "8     1  Email + Call  43e409a8-419d-4c58-bce0-821107372060        9   132.68   \n",
       "9     1         Email  1bdf7e51-1308-4447-827d-811569748c2a       11   105.44   \n",
       "\n",
       "   years_as_customer  nb_site_visits         state  \n",
       "0                 24              28  Pennsylvania  \n",
       "1                  4              17       Alabama  \n",
       "2                  5              21         Texas  \n",
       "3                  9              20  Pennsylvania  \n",
       "4                  0              32       Alabama  \n",
       "5                  6              26    New Jersey  \n",
       "6                  1              19       Wyoming  \n",
       "7                  1              28          Iowa  \n",
       "8                 15              26      Kentucky  \n",
       "9                  6              27   Connecticut  "
      ]
     },
     "execution_count": 19,
     "metadata": {},
     "output_type": "execute_result"
    }
   ],
   "source": [
    "# preview of the first 10 Rows\n",
    "df.head(10)"
   ]
  },
  {
   "cell_type": "code",
   "execution_count": 20,
   "id": "9f0c8067",
   "metadata": {},
   "outputs": [
    {
     "name": "stdout",
     "output_type": "stream",
     "text": [
      "The Dimension of our Dataset is (15000, 8)\n"
     ]
    }
   ],
   "source": [
    "#Shape of the Dataset\n",
    "print(f\"The Dimension of our Dataset is {df.shape}\")"
   ]
  },
  {
   "cell_type": "code",
   "execution_count": 21,
   "id": "b49a2e21",
   "metadata": {},
   "outputs": [
    {
     "data": {
      "text/plain": [
       "Index(['week', 'sales_method', 'customer_id', 'nb_sold', 'revenue',\n",
       "       'years_as_customer', 'nb_site_visits', 'state'],\n",
       "      dtype='object')"
      ]
     },
     "execution_count": 21,
     "metadata": {},
     "output_type": "execute_result"
    }
   ],
   "source": [
    "#Columns in the Dataset\n",
    "df.columns"
   ]
  },
  {
   "cell_type": "code",
   "execution_count": 22,
   "id": "0beedae8",
   "metadata": {},
   "outputs": [
    {
     "name": "stdout",
     "output_type": "stream",
     "text": [
      "<class 'pandas.core.frame.DataFrame'>\n",
      "RangeIndex: 15000 entries, 0 to 14999\n",
      "Data columns (total 8 columns):\n",
      " #   Column             Non-Null Count  Dtype  \n",
      "---  ------             --------------  -----  \n",
      " 0   week               15000 non-null  int64  \n",
      " 1   sales_method       15000 non-null  object \n",
      " 2   customer_id        15000 non-null  object \n",
      " 3   nb_sold            15000 non-null  int64  \n",
      " 4   revenue            13926 non-null  float64\n",
      " 5   years_as_customer  15000 non-null  int64  \n",
      " 6   nb_site_visits     15000 non-null  int64  \n",
      " 7   state              15000 non-null  object \n",
      "dtypes: float64(1), int64(4), object(3)\n",
      "memory usage: 937.6+ KB\n"
     ]
    }
   ],
   "source": [
    "#info\n",
    "df.info()"
   ]
  },
  {
   "cell_type": "markdown",
   "id": "8ae73c42",
   "metadata": {},
   "source": [
    "The Data has 1500 entries, each row representing a customer and 8 columns represennting the features or attributes describing each customer.\n",
    "The following are the features:-\n",
    "- `week` → Week sale was made,counted as weeks since product launch\n",
    "- `sales_method` → Character, which of the three sales methods were used for that customer\n",
    "- `customer_id` → Character, unique identifier for the customer\n",
    "- `nb_sold` → Numeric, number of new products sold\n",
    "- `revenue` → Numeric, revenue from the sales, rounded to 2 decimal places.\n",
    "- `years_as_customer` → Numeric, number of years customer has been buying from us\n",
    "(company founded in 1984)\n",
    "- `nb_site_visits` → Numeric, number of times the customer has visited our website in the last 6 months\n",
    "- `state` → Character, location of the customer i.e. where orders are\n",
    " shipped\n",
    "\n"
   ]
  },
  {
   "cell_type": "markdown",
   "id": "409bb05f",
   "metadata": {
    "jp-MarkdownHeadingCollapsed": true
   },
   "source": [
    "## Data Cleaning"
   ]
  },
  {
   "cell_type": "code",
   "execution_count": 23,
   "id": "a8b9325d",
   "metadata": {},
   "outputs": [
    {
     "name": "stdout",
     "output_type": "stream",
     "text": [
      "Number of duplicates in the Dataset: 0\n"
     ]
    }
   ],
   "source": [
    "#Checking for duplicates\n",
    "print(f\"Number of duplicates in the Dataset: {df.duplicated().sum()}\")"
   ]
  },
  {
   "cell_type": "code",
   "execution_count": 24,
   "id": "4c1eadd3",
   "metadata": {},
   "outputs": [
    {
     "name": "stdout",
     "output_type": "stream",
     "text": [
      "Number of missing values per column: \n"
     ]
    },
    {
     "data": {
      "text/plain": [
       "week                    0\n",
       "sales_method            0\n",
       "customer_id             0\n",
       "nb_sold                 0\n",
       "revenue              1074\n",
       "years_as_customer       0\n",
       "nb_site_visits          0\n",
       "state                   0\n",
       "dtype: int64"
      ]
     },
     "execution_count": 24,
     "metadata": {},
     "output_type": "execute_result"
    }
   ],
   "source": [
    "#Checking for missing values\n",
    "print(f\"Number of missing values per column: \")\n",
    "df.isna().sum()"
   ]
  },
  {
   "cell_type": "markdown",
   "id": "7905472c",
   "metadata": {},
   "source": [
    "**Handling missing values**\n",
    "\n",
    "To handle the missing values in the `revenue` column we will replace the missing values  with `0` to indicate that the sales made by that customer did not generate any revenue"
   ]
  },
  {
   "cell_type": "code",
   "execution_count": 25,
   "id": "ad4a4b01",
   "metadata": {},
   "outputs": [
    {
     "data": {
      "text/plain": [
       "week                 0\n",
       "sales_method         0\n",
       "customer_id          0\n",
       "nb_sold              0\n",
       "revenue              0\n",
       "years_as_customer    0\n",
       "nb_site_visits       0\n",
       "state                0\n",
       "dtype: int64"
      ]
     },
     "execution_count": 25,
     "metadata": {},
     "output_type": "execute_result"
    }
   ],
   "source": [
    "# Replacing missing values\n",
    "df['revenue'] = df['revenue'].fillna(round(df['revenue'].mean(),2))\n",
    "df.isna().sum()"
   ]
  },
  {
   "cell_type": "markdown",
   "id": "413416c3",
   "metadata": {},
   "source": [
    "**Inspecting Data types**\n",
    "\n",
    "Ensuring that categorical variables have the `Category` data type and converting relevant data types where necessary."
   ]
  },
  {
   "cell_type": "code",
   "execution_count": 26,
   "id": "84047ddb",
   "metadata": {},
   "outputs": [
    {
     "data": {
      "text/plain": [
       "week                   int64\n",
       "sales_method          object\n",
       "customer_id           object\n",
       "nb_sold                int64\n",
       "revenue              float64\n",
       "years_as_customer      int64\n",
       "nb_site_visits         int64\n",
       "state                 object\n",
       "dtype: object"
      ]
     },
     "execution_count": 26,
     "metadata": {},
     "output_type": "execute_result"
    }
   ],
   "source": [
    "# Inspecting Data Types\n",
    "df.dtypes"
   ]
  },
  {
   "cell_type": "code",
   "execution_count": 27,
   "id": "5be553b3",
   "metadata": {},
   "outputs": [
    {
     "data": {
      "text/plain": [
       "week                 category\n",
       "sales_method         category\n",
       "customer_id            object\n",
       "nb_sold                 int64\n",
       "revenue               float64\n",
       "years_as_customer       int64\n",
       "nb_site_visits          int64\n",
       "state                category\n",
       "dtype: object"
      ]
     },
     "execution_count": 27,
     "metadata": {},
     "output_type": "execute_result"
    }
   ],
   "source": [
    "df[['week', 'sales_method', 'state']] =df[['week', 'sales_method', 'state']].astype('category')\n",
    "\n",
    "# Ensuring revenue is rounded to two decimal places\n",
    "# df['revenue'] = round(df['revenue'], 2)\n",
    "df.dtypes"
   ]
  },
  {
   "cell_type": "code",
   "execution_count": 28,
   "id": "48b1c610",
   "metadata": {},
   "outputs": [
    {
     "data": {
      "text/plain": [
       "15000"
      ]
     },
     "execution_count": 28,
     "metadata": {},
     "output_type": "execute_result"
    }
   ],
   "source": [
    "#Ensuring the customer_id column contains only unique values\n",
    "df['customer_id'].nunique()"
   ]
  },
  {
   "cell_type": "code",
   "execution_count": 29,
   "id": "978f9172",
   "metadata": {},
   "outputs": [
    {
     "data": {
      "text/plain": [
       "array(['Call', 'Email + Call', 'Email'], dtype=object)"
      ]
     },
     "execution_count": 29,
     "metadata": {},
     "output_type": "execute_result"
    }
   ],
   "source": [
    "#Looking for anomalies in the sales_method column to ensure we have unique categories:- 'Call', 'Email', 'Email + call'\n",
    "categories = {'em + call':'Email + Call'}\n",
    "df['sales_method']= df['sales_method'].replace(categories).str.title()\n",
    "df['sales_method'].unique()\n",
    "\n"
   ]
  },
  {
   "cell_type": "code",
   "execution_count": 30,
   "id": "a79f553e",
   "metadata": {},
   "outputs": [
    {
     "data": {
      "text/plain": [
       "array(['Pennsylvania', 'Alabama', 'Texas', 'New Jersey', 'Wyoming',\n",
       "       'Iowa', 'Kentucky', 'Connecticut', 'Arizona', 'California',\n",
       "       'Virginia', 'New York', 'Arkansas', 'Ohio', 'Michigan',\n",
       "       'Minnesota', 'Florida', 'Illinois', 'Missouri', 'Kansas',\n",
       "       'Georgia', 'Indiana', 'Oklahoma', 'Louisiana', 'West Virginia',\n",
       "       'Colorado', 'Wisconsin', 'South Carolina', 'North Carolina',\n",
       "       'Nevada', 'Nebraska', 'New Mexico', 'Washington', 'Oregon',\n",
       "       'North Dakota', 'Tennessee', 'Mississippi', 'Massachusetts',\n",
       "       'Maryland', 'New Hampshire', 'South Dakota', 'Utah', 'Maine',\n",
       "       'Hawaii', 'Rhode Island', 'Alaska', 'Vermont', 'Delaware', 'Idaho',\n",
       "       'Montana'], dtype=object)"
      ]
     },
     "execution_count": 30,
     "metadata": {},
     "output_type": "execute_result"
    }
   ],
   "source": [
    "#Lets do the same for the state column\n",
    "df['state']= df['state'].str.title()\n",
    "df['state'].unique()"
   ]
  },
  {
   "cell_type": "code",
   "execution_count": 31,
   "id": "448857a7",
   "metadata": {},
   "outputs": [
    {
     "ename": "PermissionError",
     "evalue": "[Errno 13] Permission denied: 'Cleaned_Sales.csv'",
     "output_type": "error",
     "traceback": [
      "\u001b[1;31m---------------------------------------------------------------------------\u001b[0m",
      "\u001b[1;31mPermissionError\u001b[0m                           Traceback (most recent call last)",
      "Cell \u001b[1;32mIn[31], line 2\u001b[0m\n\u001b[0;32m      1\u001b[0m \u001b[38;5;66;03m#saving the cleaned data\u001b[39;00m\n\u001b[1;32m----> 2\u001b[0m \u001b[43mdf\u001b[49m\u001b[38;5;241;43m.\u001b[39;49m\u001b[43mto_csv\u001b[49m\u001b[43m(\u001b[49m\u001b[38;5;124;43m'\u001b[39;49m\u001b[38;5;124;43mCleaned_Sales.csv\u001b[39;49m\u001b[38;5;124;43m'\u001b[39;49m\u001b[43m)\u001b[49m\n",
      "File \u001b[1;32m~\\AppData\\Local\\Programs\\Python\\Python312\\Lib\\site-packages\\pandas\\util\\_decorators.py:333\u001b[0m, in \u001b[0;36mdeprecate_nonkeyword_arguments.<locals>.decorate.<locals>.wrapper\u001b[1;34m(*args, **kwargs)\u001b[0m\n\u001b[0;32m    327\u001b[0m \u001b[38;5;28;01mif\u001b[39;00m \u001b[38;5;28mlen\u001b[39m(args) \u001b[38;5;241m>\u001b[39m num_allow_args:\n\u001b[0;32m    328\u001b[0m     warnings\u001b[38;5;241m.\u001b[39mwarn(\n\u001b[0;32m    329\u001b[0m         msg\u001b[38;5;241m.\u001b[39mformat(arguments\u001b[38;5;241m=\u001b[39m_format_argument_list(allow_args)),\n\u001b[0;32m    330\u001b[0m         \u001b[38;5;167;01mFutureWarning\u001b[39;00m,\n\u001b[0;32m    331\u001b[0m         stacklevel\u001b[38;5;241m=\u001b[39mfind_stack_level(),\n\u001b[0;32m    332\u001b[0m     )\n\u001b[1;32m--> 333\u001b[0m \u001b[38;5;28;01mreturn\u001b[39;00m \u001b[43mfunc\u001b[49m\u001b[43m(\u001b[49m\u001b[38;5;241;43m*\u001b[39;49m\u001b[43margs\u001b[49m\u001b[43m,\u001b[49m\u001b[43m \u001b[49m\u001b[38;5;241;43m*\u001b[39;49m\u001b[38;5;241;43m*\u001b[39;49m\u001b[43mkwargs\u001b[49m\u001b[43m)\u001b[49m\n",
      "File \u001b[1;32m~\\AppData\\Local\\Programs\\Python\\Python312\\Lib\\site-packages\\pandas\\core\\generic.py:3967\u001b[0m, in \u001b[0;36mNDFrame.to_csv\u001b[1;34m(self, path_or_buf, sep, na_rep, float_format, columns, header, index, index_label, mode, encoding, compression, quoting, quotechar, lineterminator, chunksize, date_format, doublequote, escapechar, decimal, errors, storage_options)\u001b[0m\n\u001b[0;32m   3956\u001b[0m df \u001b[38;5;241m=\u001b[39m \u001b[38;5;28mself\u001b[39m \u001b[38;5;28;01mif\u001b[39;00m \u001b[38;5;28misinstance\u001b[39m(\u001b[38;5;28mself\u001b[39m, ABCDataFrame) \u001b[38;5;28;01melse\u001b[39;00m \u001b[38;5;28mself\u001b[39m\u001b[38;5;241m.\u001b[39mto_frame()\n\u001b[0;32m   3958\u001b[0m formatter \u001b[38;5;241m=\u001b[39m DataFrameFormatter(\n\u001b[0;32m   3959\u001b[0m     frame\u001b[38;5;241m=\u001b[39mdf,\n\u001b[0;32m   3960\u001b[0m     header\u001b[38;5;241m=\u001b[39mheader,\n\u001b[1;32m   (...)\u001b[0m\n\u001b[0;32m   3964\u001b[0m     decimal\u001b[38;5;241m=\u001b[39mdecimal,\n\u001b[0;32m   3965\u001b[0m )\n\u001b[1;32m-> 3967\u001b[0m \u001b[38;5;28;01mreturn\u001b[39;00m \u001b[43mDataFrameRenderer\u001b[49m\u001b[43m(\u001b[49m\u001b[43mformatter\u001b[49m\u001b[43m)\u001b[49m\u001b[38;5;241;43m.\u001b[39;49m\u001b[43mto_csv\u001b[49m\u001b[43m(\u001b[49m\n\u001b[0;32m   3968\u001b[0m \u001b[43m    \u001b[49m\u001b[43mpath_or_buf\u001b[49m\u001b[43m,\u001b[49m\n\u001b[0;32m   3969\u001b[0m \u001b[43m    \u001b[49m\u001b[43mlineterminator\u001b[49m\u001b[38;5;241;43m=\u001b[39;49m\u001b[43mlineterminator\u001b[49m\u001b[43m,\u001b[49m\n\u001b[0;32m   3970\u001b[0m \u001b[43m    \u001b[49m\u001b[43msep\u001b[49m\u001b[38;5;241;43m=\u001b[39;49m\u001b[43msep\u001b[49m\u001b[43m,\u001b[49m\n\u001b[0;32m   3971\u001b[0m \u001b[43m    \u001b[49m\u001b[43mencoding\u001b[49m\u001b[38;5;241;43m=\u001b[39;49m\u001b[43mencoding\u001b[49m\u001b[43m,\u001b[49m\n\u001b[0;32m   3972\u001b[0m \u001b[43m    \u001b[49m\u001b[43merrors\u001b[49m\u001b[38;5;241;43m=\u001b[39;49m\u001b[43merrors\u001b[49m\u001b[43m,\u001b[49m\n\u001b[0;32m   3973\u001b[0m \u001b[43m    \u001b[49m\u001b[43mcompression\u001b[49m\u001b[38;5;241;43m=\u001b[39;49m\u001b[43mcompression\u001b[49m\u001b[43m,\u001b[49m\n\u001b[0;32m   3974\u001b[0m \u001b[43m    \u001b[49m\u001b[43mquoting\u001b[49m\u001b[38;5;241;43m=\u001b[39;49m\u001b[43mquoting\u001b[49m\u001b[43m,\u001b[49m\n\u001b[0;32m   3975\u001b[0m \u001b[43m    \u001b[49m\u001b[43mcolumns\u001b[49m\u001b[38;5;241;43m=\u001b[39;49m\u001b[43mcolumns\u001b[49m\u001b[43m,\u001b[49m\n\u001b[0;32m   3976\u001b[0m \u001b[43m    \u001b[49m\u001b[43mindex_label\u001b[49m\u001b[38;5;241;43m=\u001b[39;49m\u001b[43mindex_label\u001b[49m\u001b[43m,\u001b[49m\n\u001b[0;32m   3977\u001b[0m \u001b[43m    \u001b[49m\u001b[43mmode\u001b[49m\u001b[38;5;241;43m=\u001b[39;49m\u001b[43mmode\u001b[49m\u001b[43m,\u001b[49m\n\u001b[0;32m   3978\u001b[0m \u001b[43m    \u001b[49m\u001b[43mchunksize\u001b[49m\u001b[38;5;241;43m=\u001b[39;49m\u001b[43mchunksize\u001b[49m\u001b[43m,\u001b[49m\n\u001b[0;32m   3979\u001b[0m \u001b[43m    \u001b[49m\u001b[43mquotechar\u001b[49m\u001b[38;5;241;43m=\u001b[39;49m\u001b[43mquotechar\u001b[49m\u001b[43m,\u001b[49m\n\u001b[0;32m   3980\u001b[0m \u001b[43m    \u001b[49m\u001b[43mdate_format\u001b[49m\u001b[38;5;241;43m=\u001b[39;49m\u001b[43mdate_format\u001b[49m\u001b[43m,\u001b[49m\n\u001b[0;32m   3981\u001b[0m \u001b[43m    \u001b[49m\u001b[43mdoublequote\u001b[49m\u001b[38;5;241;43m=\u001b[39;49m\u001b[43mdoublequote\u001b[49m\u001b[43m,\u001b[49m\n\u001b[0;32m   3982\u001b[0m \u001b[43m    \u001b[49m\u001b[43mescapechar\u001b[49m\u001b[38;5;241;43m=\u001b[39;49m\u001b[43mescapechar\u001b[49m\u001b[43m,\u001b[49m\n\u001b[0;32m   3983\u001b[0m \u001b[43m    \u001b[49m\u001b[43mstorage_options\u001b[49m\u001b[38;5;241;43m=\u001b[39;49m\u001b[43mstorage_options\u001b[49m\u001b[43m,\u001b[49m\n\u001b[0;32m   3984\u001b[0m \u001b[43m\u001b[49m\u001b[43m)\u001b[49m\n",
      "File \u001b[1;32m~\\AppData\\Local\\Programs\\Python\\Python312\\Lib\\site-packages\\pandas\\io\\formats\\format.py:1014\u001b[0m, in \u001b[0;36mDataFrameRenderer.to_csv\u001b[1;34m(self, path_or_buf, encoding, sep, columns, index_label, mode, compression, quoting, quotechar, lineterminator, chunksize, date_format, doublequote, escapechar, errors, storage_options)\u001b[0m\n\u001b[0;32m    993\u001b[0m     created_buffer \u001b[38;5;241m=\u001b[39m \u001b[38;5;28;01mFalse\u001b[39;00m\n\u001b[0;32m    995\u001b[0m csv_formatter \u001b[38;5;241m=\u001b[39m CSVFormatter(\n\u001b[0;32m    996\u001b[0m     path_or_buf\u001b[38;5;241m=\u001b[39mpath_or_buf,\n\u001b[0;32m    997\u001b[0m     lineterminator\u001b[38;5;241m=\u001b[39mlineterminator,\n\u001b[1;32m   (...)\u001b[0m\n\u001b[0;32m   1012\u001b[0m     formatter\u001b[38;5;241m=\u001b[39m\u001b[38;5;28mself\u001b[39m\u001b[38;5;241m.\u001b[39mfmt,\n\u001b[0;32m   1013\u001b[0m )\n\u001b[1;32m-> 1014\u001b[0m \u001b[43mcsv_formatter\u001b[49m\u001b[38;5;241;43m.\u001b[39;49m\u001b[43msave\u001b[49m\u001b[43m(\u001b[49m\u001b[43m)\u001b[49m\n\u001b[0;32m   1016\u001b[0m \u001b[38;5;28;01mif\u001b[39;00m created_buffer:\n\u001b[0;32m   1017\u001b[0m     \u001b[38;5;28;01massert\u001b[39;00m \u001b[38;5;28misinstance\u001b[39m(path_or_buf, StringIO)\n",
      "File \u001b[1;32m~\\AppData\\Local\\Programs\\Python\\Python312\\Lib\\site-packages\\pandas\\io\\formats\\csvs.py:251\u001b[0m, in \u001b[0;36mCSVFormatter.save\u001b[1;34m(self)\u001b[0m\n\u001b[0;32m    247\u001b[0m \u001b[38;5;250m\u001b[39m\u001b[38;5;124;03m\"\"\"\u001b[39;00m\n\u001b[0;32m    248\u001b[0m \u001b[38;5;124;03mCreate the writer & save.\u001b[39;00m\n\u001b[0;32m    249\u001b[0m \u001b[38;5;124;03m\"\"\"\u001b[39;00m\n\u001b[0;32m    250\u001b[0m \u001b[38;5;66;03m# apply compression and byte/text conversion\u001b[39;00m\n\u001b[1;32m--> 251\u001b[0m \u001b[38;5;28;01mwith\u001b[39;00m \u001b[43mget_handle\u001b[49m\u001b[43m(\u001b[49m\n\u001b[0;32m    252\u001b[0m \u001b[43m    \u001b[49m\u001b[38;5;28;43mself\u001b[39;49m\u001b[38;5;241;43m.\u001b[39;49m\u001b[43mfilepath_or_buffer\u001b[49m\u001b[43m,\u001b[49m\n\u001b[0;32m    253\u001b[0m \u001b[43m    \u001b[49m\u001b[38;5;28;43mself\u001b[39;49m\u001b[38;5;241;43m.\u001b[39;49m\u001b[43mmode\u001b[49m\u001b[43m,\u001b[49m\n\u001b[0;32m    254\u001b[0m \u001b[43m    \u001b[49m\u001b[43mencoding\u001b[49m\u001b[38;5;241;43m=\u001b[39;49m\u001b[38;5;28;43mself\u001b[39;49m\u001b[38;5;241;43m.\u001b[39;49m\u001b[43mencoding\u001b[49m\u001b[43m,\u001b[49m\n\u001b[0;32m    255\u001b[0m \u001b[43m    \u001b[49m\u001b[43merrors\u001b[49m\u001b[38;5;241;43m=\u001b[39;49m\u001b[38;5;28;43mself\u001b[39;49m\u001b[38;5;241;43m.\u001b[39;49m\u001b[43merrors\u001b[49m\u001b[43m,\u001b[49m\n\u001b[0;32m    256\u001b[0m \u001b[43m    \u001b[49m\u001b[43mcompression\u001b[49m\u001b[38;5;241;43m=\u001b[39;49m\u001b[38;5;28;43mself\u001b[39;49m\u001b[38;5;241;43m.\u001b[39;49m\u001b[43mcompression\u001b[49m\u001b[43m,\u001b[49m\n\u001b[0;32m    257\u001b[0m \u001b[43m    \u001b[49m\u001b[43mstorage_options\u001b[49m\u001b[38;5;241;43m=\u001b[39;49m\u001b[38;5;28;43mself\u001b[39;49m\u001b[38;5;241;43m.\u001b[39;49m\u001b[43mstorage_options\u001b[49m\u001b[43m,\u001b[49m\n\u001b[0;32m    258\u001b[0m \u001b[43m\u001b[49m\u001b[43m)\u001b[49m \u001b[38;5;28;01mas\u001b[39;00m handles:\n\u001b[0;32m    259\u001b[0m     \u001b[38;5;66;03m# Note: self.encoding is irrelevant here\u001b[39;00m\n\u001b[0;32m    260\u001b[0m     \u001b[38;5;28mself\u001b[39m\u001b[38;5;241m.\u001b[39mwriter \u001b[38;5;241m=\u001b[39m csvlib\u001b[38;5;241m.\u001b[39mwriter(\n\u001b[0;32m    261\u001b[0m         handles\u001b[38;5;241m.\u001b[39mhandle,\n\u001b[0;32m    262\u001b[0m         lineterminator\u001b[38;5;241m=\u001b[39m\u001b[38;5;28mself\u001b[39m\u001b[38;5;241m.\u001b[39mlineterminator,\n\u001b[1;32m   (...)\u001b[0m\n\u001b[0;32m    267\u001b[0m         quotechar\u001b[38;5;241m=\u001b[39m\u001b[38;5;28mself\u001b[39m\u001b[38;5;241m.\u001b[39mquotechar,\n\u001b[0;32m    268\u001b[0m     )\n\u001b[0;32m    270\u001b[0m     \u001b[38;5;28mself\u001b[39m\u001b[38;5;241m.\u001b[39m_save()\n",
      "File \u001b[1;32m~\\AppData\\Local\\Programs\\Python\\Python312\\Lib\\site-packages\\pandas\\io\\common.py:873\u001b[0m, in \u001b[0;36mget_handle\u001b[1;34m(path_or_buf, mode, encoding, compression, memory_map, is_text, errors, storage_options)\u001b[0m\n\u001b[0;32m    868\u001b[0m \u001b[38;5;28;01melif\u001b[39;00m \u001b[38;5;28misinstance\u001b[39m(handle, \u001b[38;5;28mstr\u001b[39m):\n\u001b[0;32m    869\u001b[0m     \u001b[38;5;66;03m# Check whether the filename is to be opened in binary mode.\u001b[39;00m\n\u001b[0;32m    870\u001b[0m     \u001b[38;5;66;03m# Binary mode does not support 'encoding' and 'newline'.\u001b[39;00m\n\u001b[0;32m    871\u001b[0m     \u001b[38;5;28;01mif\u001b[39;00m ioargs\u001b[38;5;241m.\u001b[39mencoding \u001b[38;5;129;01mand\u001b[39;00m \u001b[38;5;124m\"\u001b[39m\u001b[38;5;124mb\u001b[39m\u001b[38;5;124m\"\u001b[39m \u001b[38;5;129;01mnot\u001b[39;00m \u001b[38;5;129;01min\u001b[39;00m ioargs\u001b[38;5;241m.\u001b[39mmode:\n\u001b[0;32m    872\u001b[0m         \u001b[38;5;66;03m# Encoding\u001b[39;00m\n\u001b[1;32m--> 873\u001b[0m         handle \u001b[38;5;241m=\u001b[39m \u001b[38;5;28;43mopen\u001b[39;49m\u001b[43m(\u001b[49m\n\u001b[0;32m    874\u001b[0m \u001b[43m            \u001b[49m\u001b[43mhandle\u001b[49m\u001b[43m,\u001b[49m\n\u001b[0;32m    875\u001b[0m \u001b[43m            \u001b[49m\u001b[43mioargs\u001b[49m\u001b[38;5;241;43m.\u001b[39;49m\u001b[43mmode\u001b[49m\u001b[43m,\u001b[49m\n\u001b[0;32m    876\u001b[0m \u001b[43m            \u001b[49m\u001b[43mencoding\u001b[49m\u001b[38;5;241;43m=\u001b[39;49m\u001b[43mioargs\u001b[49m\u001b[38;5;241;43m.\u001b[39;49m\u001b[43mencoding\u001b[49m\u001b[43m,\u001b[49m\n\u001b[0;32m    877\u001b[0m \u001b[43m            \u001b[49m\u001b[43merrors\u001b[49m\u001b[38;5;241;43m=\u001b[39;49m\u001b[43merrors\u001b[49m\u001b[43m,\u001b[49m\n\u001b[0;32m    878\u001b[0m \u001b[43m            \u001b[49m\u001b[43mnewline\u001b[49m\u001b[38;5;241;43m=\u001b[39;49m\u001b[38;5;124;43m\"\u001b[39;49m\u001b[38;5;124;43m\"\u001b[39;49m\u001b[43m,\u001b[49m\n\u001b[0;32m    879\u001b[0m \u001b[43m        \u001b[49m\u001b[43m)\u001b[49m\n\u001b[0;32m    880\u001b[0m     \u001b[38;5;28;01melse\u001b[39;00m:\n\u001b[0;32m    881\u001b[0m         \u001b[38;5;66;03m# Binary mode\u001b[39;00m\n\u001b[0;32m    882\u001b[0m         handle \u001b[38;5;241m=\u001b[39m \u001b[38;5;28mopen\u001b[39m(handle, ioargs\u001b[38;5;241m.\u001b[39mmode)\n",
      "\u001b[1;31mPermissionError\u001b[0m: [Errno 13] Permission denied: 'Cleaned_Sales.csv'"
     ]
    }
   ],
   "source": [
    "#saving the cleaned data\n",
    "df.to_csv('Cleaned_Sales.csv')"
   ]
  },
  {
   "cell_type": "markdown",
   "id": "172cc894",
   "metadata": {
    "jp-MarkdownHeadingCollapsed": true
   },
   "source": [
    "## Demographics"
   ]
  },
  {
   "cell_type": "code",
   "execution_count": null,
   "id": "61f55d57",
   "metadata": {},
   "outputs": [],
   "source": [
    "# How many customers were there for each approach?\n",
    "sizes = df['sales_method'].value_counts(normalize= True)\n",
    "labels = sizes.index\n",
    "plt.pie(sizes, labels= labels, autopct= '%1.0f%%', colors=['skyblue', 'orange', 'green'])\n",
    "plt.title('Customers per Sales_Method', fontweight = 'bold', fontsize = 15)\n",
    "plt.show()"
   ]
  },
  {
   "cell_type": "markdown",
   "id": "c1ca542b",
   "metadata": {},
   "source": [
    " **Observation**\n",
    " \n",
    "The `Email` sales method is the most common, accounting for __50%__ of total customers. The `Call` method follows with **33%**, indicating it is also a significant approach but less than Email.The `Email + Call` combination is the least used, making up only __17%__ of the total customers. \n",
    "\n",
    "This suggests that Email is the dominant sales method, while the combination of Email + Call is the least preferred or least effective among customers. "
   ]
  },
  {
   "cell_type": "code",
   "execution_count": null,
   "id": "bf914a58",
   "metadata": {},
   "outputs": [],
   "source": [
    "#Which week had the most customers?\n",
    "week_counts = df['week'].value_counts()  \n",
    "percentages = (week_counts / week_counts.sum()) * 100 \n",
    "\n",
    "plt.figure(figsize=(8, 6))\n",
    "ax = sns.countplot(x='week', data=df, palette=\"viridis\")\n",
    "# Add percentage labels\n",
    "for a, week in zip(ax.patches, week_counts.index): \n",
    "    ax.text(a.get_x() + a.get_width()/2, a.get_height(),  \n",
    "            f'{percentages[week]:.1f}%',  \n",
    "            ha='center', va='bottom', fontsize=12, fontweight='bold')\n",
    "plt.title('Customers per Week', fontweight='bold', fontsize=15)\n",
    "plt.xlabel(\"Week\")\n",
    "plt.ylabel(\"Number of Customers\")\n",
    "plt.show()\n"
   ]
  },
  {
   "cell_type": "markdown",
   "id": "ba350dd6",
   "metadata": {},
   "source": [
    "**Observation**\n",
    "\n",
    "The bar chart displays the percentage distribution of customers across different weeks. Week 1 had the highest number of customers, accounting for 24.8% of the total, significantly leading compared to other weeks. Weeks 2 and 3 had equal customer proportions at 17.2% each, indicating a steady flow of customers. Week 4 followed closely with 16.6%, while Week 5 had a slightly lower share at 16.1%. Week 6 had the least number of customers at just 8.2%, showing a notable decline. \n",
    "\n",
    "Overall, the chart suggests that customer activity peaked at the beginning and gradually declined towards Week 6."
   ]
  },
  {
   "cell_type": "code",
   "execution_count": null,
   "id": "c2b8e406",
   "metadata": {},
   "outputs": [],
   "source": [
    "# From which state were most customers from?\n",
    "count = df['state'].value_counts().sort_values(ascending= False).head(20)\n",
    "state_count = (count/ count.sum())*100\n",
    "plt.figure(figsize =(8,6))\n",
    "ax= sns.countplot(y= 'state', data= df, order = count.index, palette= 'viridis')\n",
    "for a, state in zip(ax.patches, count.index):\n",
    "    ax.text(a.get_width(), a.get_y() + a.get_height(), f'{state_count[state]:.0f}%', ha= 'left', va= 'bottom', \n",
    "            fontweight= 'bold', fontsize= 12)\n",
    "\n",
    "plt.title('Top 20 states with the highest Number of Customers', fontweight = 'bold', fontsize =15)\n",
    "plt.xlabel('Number of Customers')\n",
    "plt.ylabel('State')\n",
    "\n",
    "\n",
    "#check how to display top 10 states, and order"
   ]
  },
  {
   "cell_type": "markdown",
   "id": "1de520da",
   "metadata": {},
   "source": [
    "**Observation**\n",
    "\n",
    "The chart shows that California has the highest number of customers at 16%, significantly leading other states. Texas, New York, and Florida also have a considerable share of customers, while the remaining states have a more evenly distributed but smaller customer base. The trend suggests that customer concentration is higher in a few key states, with a gradual decline across the rest. \n",
    "\n",
    "The distribution suggests that the majority of customers are concentrated in a few key states, with California having a notable dominance over the rest. The presence of several states with smaller percentages indicates a wider but less concentrated customer base across the country."
   ]
  },
  {
   "cell_type": "markdown",
   "id": "aafdf417",
   "metadata": {},
   "source": [
    "## Univariate analysis"
   ]
  },
  {
   "cell_type": "markdown",
   "id": "f4fbe881",
   "metadata": {},
   "source": [
    "**Distribution of Revenue**"
   ]
  },
  {
   "cell_type": "code",
   "execution_count": 32,
   "id": "70cc5e45",
   "metadata": {},
   "outputs": [
    {
     "data": {
      "image/png": "[encoded data removed]",
      "text/plain": [
       "<Figure size 800x600 with 1 Axes>"
      ]
     },
     "metadata": {},
     "output_type": "display_data"
    }
   ],
   "source": [
    "#Let's look at the distribution of revenue\n",
    "plt.figure(figsize=(8,6))\n",
    "sns.histplot(x='revenue', data= df, kde= True)\n",
    "plt.title('Distribution of Revenue', fontsize= 15, fontweight= 'bold')\n",
    "mean_revenue = df['revenue'].mean()\n",
    "plt.axvline(mean_revenue, color='green', linestyle='dashed', linewidth=2, label=f'Average revenue: {mean_revenue:.2f}')\n",
    "plt.legend()\n",
    "plt.show()"
   ]
  },
  {
   "cell_type": "markdown",
   "id": "79079ebd",
   "metadata": {},
   "source": [
    "**Observation**\n",
    "\n",
    "The histogram displays the distribution of revenue, showing how frequently different revenue values occur. The data appears to be multimodal with a mean of 87.21, meaning it has multiple peaks, indicating that revenue tends to cluster around certain values rather than being evenly spread. There are notable spikes around 50, 100, and 200, suggesting that certain revenue values are more common. The Kernel Density Estimate (KDE) line further highlights these peaks and the overall shape of the distribution. The spread of revenue is wide, ranging from close to 0 up to around 250, with some noticeable gaps where fewer transactions occur. \n",
    "\n",
    "This pattern may suggest different pricing structures, customer segments, or sales strategies affecting revenue distribution."
   ]
  },
  {
   "cell_type": "markdown",
   "id": "ccf8f9fd-6a2c-4215-baa6-e3be2de03607",
   "metadata": {},
   "source": [
    "**Distribution of Site Visits**"
   ]
  },
  {
   "cell_type": "code",
   "execution_count": 43,
   "id": "009a3861-4018-4a15-bd4e-53445a3d0ce2",
   "metadata": {},
   "outputs": [
    {
     "data": {
      "image/png": "[encoded data removed]",
      "text/plain": [
       "<Figure size 800x600 with 1 Axes>"
      ]
     },
     "metadata": {},
     "output_type": "display_data"
    }
   ],
   "source": [
    "#Let's look at the distribution of Site Visits\n",
    "plt.figure(figsize=(8,6))\n",
    "sns.histplot(x='nb_site_visits', data= df, kde= True, color='purple')\n",
    "plt.title('Distribution of Website Visits', fontsize= 15, fontweight= 'bold')\n",
    "mean_site_visits = df['nb_site_visits'].mean()\n",
    "plt.axvline(mean_site_visits, color='blue', linestyle='dashed', linewidth=2, label=f'Average Site Visits: {mean_site_visits:.2f} visits')\n",
    "plt.legend()\n",
    "plt.show()"
   ]
  },
  {
   "cell_type": "markdown",
   "id": "11143fcb",
   "metadata": {},
   "source": [
    "## Bivariate Analysis"
   ]
  },
  {
   "cell_type": "markdown",
   "id": "983fabe6",
   "metadata": {},
   "source": [
    "**Products Sold per Sales Method**"
   ]
  },
  {
   "cell_type": "code",
   "execution_count": null,
   "id": "31055667",
   "metadata": {
    "scrolled": true
   },
   "outputs": [],
   "source": [
    "plt.figure(figsize=(8,5))\n",
    "sns.barplot(x='sales_method', y='nb_sold', data= df, errorbar= None)\n",
    "plt.title('Products sold by Sales Method', fontweight= 'bold', fontsize= 15)\n",
    "plt.ylabel('Avg No_of_Products')\n",
    "plt.show()"
   ]
  },
  {
   "cell_type": "markdown",
   "id": "bf4295fc",
   "metadata": {},
   "source": [
    "**Observation**\n",
    "\n",
    "The bar plot illustrates the average number of products sold per transaction for each sales method. The Email + Call method has the highest average sales per transaction, with approximately 12 products sold. In contrast, both the Call and Email methods have similar average sales, around 9 products per transaction. \n",
    "\n",
    "This suggests that combining Email and Call is the most effective strategy for maximizing the number of products sold per transaction, while using either Email or Call alone results in slightly lower sales efficiency."
   ]
  },
  {
   "cell_type": "markdown",
   "id": "bb4b5d9d",
   "metadata": {},
   "source": [
    "**Revenue Distribution by Sales Method**"
   ]
  },
  {
   "cell_type": "code",
   "execution_count": null,
   "id": "871aba74",
   "metadata": {},
   "outputs": [],
   "source": [
    "plt.figure(figsize=(8,6))\n",
    "sns.violinplot(x= 'sales_method', y='revenue',  data =df,  palette=\"husl\")\n",
    "plt.title('Revenue Distribution by Sales Method', fontsize= 15, fontweight= 'bold')\n",
    "plt.show()"
   ]
  },
  {
   "cell_type": "markdown",
   "id": "6510a6e2",
   "metadata": {},
   "source": [
    "**Observation**\n",
    "\n",
    "The violin plot shows the distribution of revenue across different sales methods: Call, Email, and Email + Call. The Email + Call method exhibits the highest revenue variability, with a wider spread and higher concentration of larger revenue values, suggesting it is the most effective method for generating high sales. In contrast, the Email method has a more moderate revenue range, with most values clustered around 100, indicating a relatively consistent performance. The Call method, however, shows the lowest revenue distribution, with a narrower range and lower overall values, implying it is the least effective at generating significant revenue. \n",
    "\n",
    "Overall, the Email + Call method appears to be the most profitable, while Call alone yields the lowest revenue."
   ]
  },
  {
   "cell_type": "markdown",
   "id": "6f692dc0",
   "metadata": {},
   "source": [
    "**General Trend of revenue over time**"
   ]
  },
  {
   "cell_type": "code",
   "execution_count": null,
   "id": "f2088b84",
   "metadata": {},
   "outputs": [],
   "source": [
    "plt.figure(figsize=(8,5))\n",
    "sns.lineplot(x='week',y='revenue', data=df, errorbar=None)\n",
    "plt.title('Trend of revenue over the weeks', fontweight= 'bold', fontsize=15)"
   ]
  },
  {
   "cell_type": "markdown",
   "id": "e223fb5c",
   "metadata": {},
   "source": [
    "**Observation**\n",
    "\n",
    "The line chart illustrates the trend of revenue over six weeks. Initially, revenue starts at approximately 87 and experiences a slight decline in the second week. However, it rises significantly in the third week before dropping to its lowest point in the fourth week, around 86. The most notable change occurs between the fourth and fifth weeks, where revenue surges sharply to its highest point above 88. This increase is followed by a slight decline in the sixth week. \n",
    "\n",
    "Overall, the chart indicates fluctuations in revenue, with a significant peak in the fifth week."
   ]
  },
  {
   "cell_type": "markdown",
   "id": "2f7252a7",
   "metadata": {},
   "source": [
    "**Weekly Revenue by Sales Method**"
   ]
  },
  {
   "cell_type": "code",
   "execution_count": null,
   "id": "67342030",
   "metadata": {},
   "outputs": [],
   "source": [
    "plt.figure(figsize=(8,6))\n",
    "sns.barplot(x='week', y='revenue', hue='sales_method', data=df, palette='husl', errorbar=None)\n",
    "\n",
    "plt.title('Weekly Revenue by Sales Method', fontweight= 'bold', fontsize= 15)\n",
    "plt.legend(bbox_to_anchor=(1,1))"
   ]
  },
  {
   "cell_type": "markdown",
   "id": "d265df94",
   "metadata": {},
   "source": [
    "**Observation**\n",
    "\n",
    "The bar chart displays revenue trends across the six weeks for the three different communication methods. The \"Email + Call\" method consistently generates the highest revenue, with values exceeding 150 each week. \"Email\" follows as the second most effective method, maintaining a revenue range around 85–90. \"Call\" generates the lowest revenue, fluctuating between 40 and 50. \n",
    "\n",
    "The pattern suggests that a combined approach of email and call is the most effective in driving revenue, while relying solely on calls results in the lowest returns. The revenue trends appear relatively stable across the six weeks, with only slight variations."
   ]
  },
  {
   "cell_type": "markdown",
   "id": "84b9b147",
   "metadata": {},
   "source": [
    "**Trend of revenue for each Sales Method over time**"
   ]
  },
  {
   "cell_type": "code",
   "execution_count": null,
   "id": "5e35b09e",
   "metadata": {},
   "outputs": [],
   "source": [
    "sns.pointplot(x='week', y='revenue',hue='sales_method', data=df, errorbar=None, linestyles='solid', markers='o', dodge=True )\n",
    "plt.title('Trend of revenue for each Sales Method over time', fontweight= 'bold', fontsize=15)\n",
    "plt.legend(bbox_to_anchor=(1, 1))"
   ]
  },
  {
   "cell_type": "markdown",
   "id": "49583de5",
   "metadata": {},
   "source": [
    "**Observation**\n",
    "\n",
    "The chart illustrates the revenue trends over six weeks for the three sales methods. The \"Email + Call\" method consistently generates the highest revenue, fluctuating between approximately 150 and 165, with minor variations. \"Email\" follows a relatively stable trend, maintaining revenue around 85–90 across the weeks. The \"Call\" method has the lowest revenue, staying between 45 and 50, with a slight increase towards the end. \n",
    "\n",
    "Overall, the \"Email + Call\" method remains the most effective, while both \"Email\" and \"Call\" show minimal changes over time."
   ]
  },
  {
   "cell_type": "markdown",
   "id": "16fb6c5c",
   "metadata": {},
   "source": [
    "**Number of Site Visits per Sales Method**"
   ]
  },
  {
   "cell_type": "code",
   "execution_count": null,
   "id": "16423b74",
   "metadata": {},
   "outputs": [],
   "source": [
    "sns.barplot(x='sales_method', y='nb_site_visits', data=df, errorbar=None)\n",
    "plt.title('Site Visits Distribution Across Sales Methods', fontweight='bold', fontsize=15)"
   ]
  },
  {
   "cell_type": "markdown",
   "id": "a25b7d21",
   "metadata": {},
   "source": [
    "**Observation**\n",
    "\n",
    "The bar chart presents the number of site visits associated with different sales methods. The \"Email + Call\" method records the highest number of site visits, slightly exceeding 26. \"Email\" and \"Call\" generate a nearly equal number of visits, both around 24–25. \n",
    "\n",
    "This suggests that combining email and call interactions leads to slightly more engagement in terms of site visits, while the individual methods of \"Call\" and \"Email\" produce similar results."
   ]
  },
  {
   "cell_type": "markdown",
   "id": "3ac67c95",
   "metadata": {},
   "source": [
    "## Multivariate Analysis"
   ]
  },
  {
   "cell_type": "markdown",
   "id": "ae48aebf",
   "metadata": {},
   "source": [
    "**Relationship Between Site Visits and Revenue Across Sales Methods**"
   ]
  },
  {
   "cell_type": "code",
   "execution_count": null,
   "id": "6925c295",
   "metadata": {},
   "outputs": [],
   "source": [
    "plt.figure(figsize=(8,5))\n",
    "sns.scatterplot(x='nb_site_visits', y='revenue',hue= 'sales_method', data= df, palette= 'husl')\n",
    "plt.legend(bbox_to_anchor=(1,1))\n",
    "plt.title('Relationship Between Site Visits and Revenue Across Sales Methods', fontweight='bold', fontsize= 15)\n"
   ]
  },
  {
   "cell_type": "markdown",
   "id": "2262aca1",
   "metadata": {},
   "source": [
    "**Observation**\n",
    "\n",
    "The scatter plot illustrates the correlation between the number of site visits and revenue for different sales methods. The \"Email + Call\" method (green) consistently generates the highest revenue, reaching up to 250, with a wide distribution of site visits ranging from approximately 15 to 40. The \"Email\" method (blue) shows moderate revenue, mostly between 50 and 150, with site visits concentrated between 15 and 35. The \"Call\" method (red) results in the lowest revenue, primarily under 75, even with a similar distribution of site visits. \n",
    "\n",
    "Overall, the trend indicates that the \"Email + Call\" method is the most effective at driving higher revenue, while \"Call\" alone remains the least impactful."
   ]
  },
  {
   "cell_type": "code",
   "execution_count": null,
   "id": "7074c302",
   "metadata": {},
   "outputs": [],
   "source": [
    "sns.barplot(x='sales_method', y='years_as_customer', data=df, errorbar=None)"
   ]
  },
  {
   "cell_type": "markdown",
   "id": "694142cd",
   "metadata": {},
   "source": [
    "**Revenue Trends Based on Customer Tenure Across Sales Methods**\n",
    "\n",
    "Lets see if a customers tenure or the sales_method used on them affects revenue"
   ]
  },
  {
   "cell_type": "code",
   "execution_count": null,
   "id": "b4f1f56c",
   "metadata": {},
   "outputs": [],
   "source": [
    "\n",
    "plt.figure(figsize=(8,5))\n",
    "sns.scatterplot(x='years_as_customer', y='revenue',hue= 'sales_method', data= df, palette= 'husl')\n",
    "plt.title('Revenue Trends Based on Customer Tenure Across Sales Methods', fontweight='bold', fontsize=15)\n",
    "plt.legend(loc='upper left', bbox_to_anchor=(1,1))"
   ]
  },
  {
   "cell_type": "markdown",
   "id": "e438d880",
   "metadata": {},
   "source": [
    "**Observation**\n",
    "\n",
    "The scatter plot visualizes the relationship between years as a customer and revenue across three sales methods. The \"Email + Call\" method (green) consistently generates the highest revenue, with most values ranging from 150 to 250, regardless of customer tenure. The \"Email\" method (blue) follows, with revenue primarily between 50 and 150, showing a slight increase for longer-tenured customers. The \"Call\" method (red) results in the lowest revenue, mostly below 75, with a few outliers among long-term customers. \n",
    "\n",
    "While revenue does not strongly correlate with customer tenure, the \"Email + Call\" method remains the most effective, particularly for maximizing revenue across all customer durations.\n"
   ]
  },
  {
   "cell_type": "markdown",
   "id": "c7ff7c44",
   "metadata": {},
   "source": [
    "**Correlation Analysis Between Key Business Metrics**"
   ]
  },
  {
   "cell_type": "code",
   "execution_count": null,
   "id": "7f3fdd3d",
   "metadata": {},
   "outputs": [],
   "source": [
    "columns= ['nb_sold', 'revenue', 'years_as_customer', 'nb_site_visits']\n",
    "matrix= df[columns].corr()\n",
    "mask = np.triu(np.ones_like(matrix, dtype=bool))\n",
    "sns.heatmap(matrix, annot=True,mask= mask, cmap=\"viridis\", fmt=\".2f\", linewidths=0.5, cbar=True)\n",
    "plt.title('Correlation Analysis Between Key Business Metrics', fontweight='bold', fontsize=15)\n",
    "\n"
   ]
  },
  {
   "cell_type": "markdown",
   "id": "dfa2f7a1",
   "metadata": {},
   "source": [
    "**Observation**\n",
    "\n",
    "The heatmap displays the correlation between different business metrics.\n",
    "\n",
    "The strongest positive correlation is between revenue and the number of products sold (0.54), indicating that higher sales contribute significantly to revenue. \n",
    "\n",
    "There is also a moderate positive correlation between the number of site visits and both products sold (0.49) and revenue (0.25), suggesting that increased website engagement leads to higher sales and revenue. \n",
    "\n",
    "Conversely, customer tenure (years as a customer) shows a weak negative correlation with both products sold (-0.10) and revenue (-0.05) , implying that longer customer relationships do not necessarily translate to higher sales or revenue."
   ]
  },
  {
   "cell_type": "markdown",
   "id": "a5884f76",
   "metadata": {},
   "source": [
    "## Conclusion\n",
    "From the analysis of the dataset, it is evident that the Email + Call sales method is the most effective in generating revenue, consistently outperforming Email-only and Call-only approaches. Revenue trends remain relatively stable over time, with minor fluctuations. Additionally, while the number of site visits positively correlates with revenue and sales, customer tenure does not significantly impact revenue generation. This suggests that engagement through multiple communication channels plays a more crucial role in driving sales than simply maintaining long-term customers."
   ]
  },
  {
   "cell_type": "markdown",
   "id": "158aec84",
   "metadata": {},
   "source": [
    "## Recommendations\n",
    "- **Prioritize the Email + Call Method:** \n",
    "Since this method yields the highest revenue, efforts should be focused on enhancing and optimizing this sales approach. Training sales teams to effectively use both calls and emails in a strategic manner can further boost results.\n",
    "\n",
    "- **Optimize Call-Only and Email-Only Strategies:**\n",
    "While Email and Call individually generate revenue, their impact is lower compared to the combined approach. Improving standalone strategies—such as refining email content for better engagement or using data-driven call targeting—could enhance their effectiveness.\n",
    "\n",
    "- **Increase Customer Engagement Through Site Visits:**\n",
    "As the number of site visits positively correlates with revenue and sales, businesses should implement strategies to drive more traffic to their website. This could include targeted marketing campaigns, personalized email outreach, and incentives for customers to visit the site.\n",
    "\n",
    "- **Focus on New and Active Customers Rather Than Long-Term Tenure Alone:**\n",
    "The weak correlation between customer tenure and revenue suggests that longevity alone does not drive sales. Instead, efforts should be directed toward actively engaging customers regardless of how long they have been associated with the company. This can be done through personalized promotions, loyalty programs, and periodic re-engagement efforts.\n",
    "\n",
    "- **Leverage Data to Refine Sales Strategies:**\n",
    "Continuous monitoring of key metrics such as site visits, sales conversions, and revenue patterns should be conducted to refine sales tactics. A/B testing different communication strategies could help identify the most effective engagement methods.\n",
    "\n",
    "By implementing these recommendations, businesses can optimize their sales processes, enhance customer engagement, and ultimately increase revenue generation."
   ]
  }
 ],
 "metadata": {
  "kernelspec": {
   "display_name": "Python 3 (ipykernel)",
   "language": "python",
   "name": "python3"
  },
  "language_info": {
   "codemirror_mode": {
    "name": "ipython",
    "version": 3
   },
   "file_extension": ".py",
   "mimetype": "text/x-python",
   "name": "python",
   "nbconvert_exporter": "python",
   "pygments_lexer": "ipython3",
   "version": "3.12.4"
  }
 },
 "nbformat": 4,
 "nbformat_minor": 5
}
